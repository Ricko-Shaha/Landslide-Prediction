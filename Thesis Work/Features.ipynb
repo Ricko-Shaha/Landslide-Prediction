{
 "cells": [
  {
   "cell_type": "markdown",
   "id": "e221b697",
   "metadata": {},
   "source": [
    "## Import The Earth Engine Librariy & Intialize"
   ]
  },
  {
   "cell_type": "code",
   "execution_count": 1,
   "id": "881aacc6",
   "metadata": {},
   "outputs": [],
   "source": [
    "import ee\n",
    "import numpy as np\n",
    "\n",
    "# Trigger the authentication flow.\n",
    "#ee.Authenticate()\n",
    "\n",
    "# Initialize the library.\n",
    "ee.Initialize()"
   ]
  },
  {
   "cell_type": "markdown",
   "id": "e55498af",
   "metadata": {},
   "source": [
    "## Import the necessary satellite images and save it in variables"
   ]
  },
  {
   "cell_type": "code",
   "execution_count": 2,
   "id": "517a7275",
   "metadata": {},
   "outputs": [],
   "source": [
    "# Import the MODIS land cover collection.\n",
    "lc = ee.ImageCollection('MODIS/006/MCD12Q1')\n",
    "\n",
    "# Import the USGS ground elevation image.\n",
    "elv = ee.Image('USGS/SRTMGL1_003')\n",
    "\n",
    "# Import the Landsat 8 collection for NDVI.\n",
    "l8 = ee.ImageCollection('LANDSAT/LC08/C01/T1_TOA')\n",
    "\n",
    "# Import the MERIT Hydro: global hydrography datasets for Flow Accumulation\n",
    "fd = ee.Image(\"MERIT/Hydro/v1_0_1\")"
   ]
  },
  {
   "cell_type": "markdown",
   "id": "260943c3",
   "metadata": {},
   "source": [
    "## Longitude & Latitude"
   ]
  },
  {
   "cell_type": "code",
   "execution_count": 3,
   "id": "69f3703a",
   "metadata": {},
   "outputs": [],
   "source": [
    "u_lon = 92.12652813066406 #92.1999992\n",
    "u_lat = 22.942258625256922 #22.6333308\n",
    "u_poi = ee.Geometry.Point(u_lon, u_lat)\n",
    "scale = 1000  # scale in meters"
   ]
  },
  {
   "cell_type": "markdown",
   "id": "0e651777",
   "metadata": {},
   "source": [
    "## Elevation"
   ]
  },
  {
   "cell_type": "code",
   "execution_count": 4,
   "id": "4373523f",
   "metadata": {},
   "outputs": [
    {
     "name": "stdout",
     "output_type": "stream",
     "text": [
      "Ground elevation at urban point: 213 m\n"
     ]
    }
   ],
   "source": [
    "elv_urban_point = elv.sample(u_poi, scale).first().get('elevation').getInfo()\n",
    "print('Ground elevation at urban point:', elv_urban_point, 'm')"
   ]
  },
  {
   "cell_type": "markdown",
   "id": "3b644795",
   "metadata": {},
   "source": [
    "## Land Cover"
   ]
  },
  {
   "cell_type": "code",
   "execution_count": 5,
   "id": "3a3e25c9",
   "metadata": {},
   "outputs": [
    {
     "name": "stdout",
     "output_type": "stream",
     "text": [
      "Land cover value at urban point is: 8\n"
     ]
    }
   ],
   "source": [
    "lc_urban_point = lc.first().sample(u_poi, scale).first().get('LC_Type1').getInfo()\n",
    "print('Land cover value at urban point is:', lc_urban_point)"
   ]
  },
  {
   "cell_type": "markdown",
   "id": "a1a0be5a",
   "metadata": {},
   "source": [
    "## Aspect"
   ]
  },
  {
   "cell_type": "code",
   "execution_count": 6,
   "id": "dac6d615",
   "metadata": {},
   "outputs": [
    {
     "name": "stdout",
     "output_type": "stream",
     "text": [
      "140.46868896484375\n"
     ]
    }
   ],
   "source": [
    "aspect = ee.Terrain.aspect(elv)\n",
    "aspect_urban_point = aspect.sample(u_poi, scale).first().get('aspect').getInfo()\n",
    "print(aspect_urban_point)"
   ]
  },
  {
   "cell_type": "markdown",
   "id": "387bbb17",
   "metadata": {},
   "source": [
    "## Slope"
   ]
  },
  {
   "cell_type": "code",
   "execution_count": 7,
   "id": "3f2baa58",
   "metadata": {},
   "outputs": [
    {
     "name": "stdout",
     "output_type": "stream",
     "text": [
      "0.9393998980522156\n"
     ]
    }
   ],
   "source": [
    "slope = ee.Terrain.slope(elv)\n",
    "slope_urban_point = slope.sample(u_poi, scale).first().get('slope').getInfo()\n",
    "print(slope_urban_point)"
   ]
  },
  {
   "cell_type": "markdown",
   "id": "8b4b8084",
   "metadata": {},
   "source": [
    "## NDVI"
   ]
  },
  {
   "cell_type": "code",
   "execution_count": 8,
   "id": "81be9b99",
   "metadata": {},
   "outputs": [
    {
     "name": "stdout",
     "output_type": "stream",
     "text": [
      "0.5232353111417488\n"
     ]
    }
   ],
   "source": [
    "img = ee.Image(l8.filterBounds(u_poi).filterDate('2021-01-01', '2021-01-31').sort('CLOUD_COVER').first())\n",
    "\n",
    "def meanNDVICollection(img):\n",
    "    nir = img.select('B5');\n",
    "    red = img.select('B4');\n",
    "    ndviImage = nir.subtract(red).divide(nir.add(red)).rename('NDVI');\n",
    "\n",
    "  # Compute the mean of NDVI over the 'region'\n",
    "    ndviValue = ndviImage.reduceRegion(**{\n",
    "    'geometry': img.geometry(),\n",
    "    'reducer': ee.Reducer.mean(),\n",
    "     'scale': 30,\n",
    "    'maxPixels': 1e9\n",
    "  }).get('NDVI');  # result of reduceRegion is always a dictionary, so get the element we want\n",
    "\n",
    "    newFeature = ee.Feature(None, {\n",
    "      # Adding computed NDVI value\n",
    "      'NDVI': ndviValue\n",
    "  }).copyProperties(img, [\n",
    "      # Picking properties from original image\n",
    "      'system:time_start',\n",
    "      'SUN_ELEVATION'\n",
    "  ])\n",
    "\n",
    "    return newFeature\n",
    "\n",
    "ndvi = meanNDVICollection(img)\n",
    "\n",
    "ndvi = ndvi.get('NDVI').getInfo()\n",
    "print(ndvi)"
   ]
  },
  {
   "cell_type": "markdown",
   "id": "4af08903",
   "metadata": {},
   "source": [
    "## Flow Accumulation"
   ]
  },
  {
   "cell_type": "code",
   "execution_count": 9,
   "id": "ec6160e0",
   "metadata": {},
   "outputs": [
    {
     "name": "stdout",
     "output_type": "stream",
     "text": [
      "0.023036304861307144\n"
     ]
    }
   ],
   "source": [
    "fa = fd.select('upa')\n",
    "fa_urban_point = fa.sample(u_poi, scale).getInfo()\n",
    "fac = fa_urban_point['features'][0]['properties']['upa']\n",
    "print(fac)"
   ]
  },
  {
   "cell_type": "markdown",
   "id": "53ef0146",
   "metadata": {},
   "source": [
    "## TWI"
   ]
  },
  {
   "cell_type": "code",
   "execution_count": 10,
   "id": "a364c322",
   "metadata": {},
   "outputs": [
    {
     "name": "stdout",
     "output_type": "stream",
     "text": [
      "2.824079347564467\n"
     ]
    }
   ],
   "source": [
    "twi = np.log(fac*1000/np.tan(slope_urban_point))\n",
    "print(twi)"
   ]
  },
  {
   "cell_type": "markdown",
   "id": "f8f4b495",
   "metadata": {},
   "source": [
    "## SPI"
   ]
  },
  {
   "cell_type": "code",
   "execution_count": 11,
   "id": "72fb85ce",
   "metadata": {},
   "outputs": [
    {
     "name": "stdout",
     "output_type": "stream",
     "text": [
      "0.03150239390095102\n"
     ]
    }
   ],
   "source": [
    "spi = fac*np.tan(slope_urban_point)\n",
    "print(spi)"
   ]
  }
 ],
 "metadata": {
  "kernelspec": {
   "display_name": "Python 3",
   "language": "python",
   "name": "python3"
  },
  "language_info": {
   "codemirror_mode": {
    "name": "ipython",
    "version": 3
   },
   "file_extension": ".py",
   "mimetype": "text/x-python",
   "name": "python",
   "nbconvert_exporter": "python",
   "pygments_lexer": "ipython3",
   "version": "3.7.3"
  }
 },
 "nbformat": 4,
 "nbformat_minor": 5
}
