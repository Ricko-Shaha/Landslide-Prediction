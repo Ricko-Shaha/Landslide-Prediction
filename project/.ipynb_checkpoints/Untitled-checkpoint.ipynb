{
 "cells": [
  {
   "cell_type": "code",
   "execution_count": 1,
   "id": "3fe2ec15",
   "metadata": {},
   "outputs": [],
   "source": [
    "import pickle\n",
    "from flask import Flask,render_template, request\n",
    "import ee\n",
    "import numpy as np\n",
    "import logging\n",
    "\n",
    "ee.Initialize()\n",
    "\n",
    "model = pickle.load(open(\"model.pkl\",'rb'))\n",
    "\n",
    "# Import the MODIS land cover collection.\n",
    "lc = ee.ImageCollection('MODIS/006/MCD12Q1')\n",
    "\n",
    "# Import the USGS ground elevation image.\n",
    "elv = ee.Image('USGS/SRTMGL1_003')\n",
    "\n",
    "# Import the Landsat 8 collection for NDVI.\n",
    "l8 = ee.ImageCollection('LANDSAT/LC08/C01/T1_TOA')\n",
    "\n",
    "# Import the MERIT Hydro: global hydrography datasets for Flow Accumulation\n",
    "fd = ee.Image(\"MERIT/Hydro/v1_0_1\")"
   ]
  },
  {
   "cell_type": "code",
   "execution_count": 3,
   "id": "b0906ff5",
   "metadata": {},
   "outputs": [],
   "source": [
    "def get_landslider(u_lon, u_lat):\n",
    "\n",
    "    u_poi = ee.Geometry.Point(float(u_lon), float(u_lat))\n",
    "    scale = 1000  # scale in meters\n",
    "\n",
    "    elv_urban_point = elv.sample(u_poi, scale).first().get('elevation').getInfo()\n",
    "    #print('Ground elevation at urban point:', elv_urban_point, 'm')\n",
    "\n",
    "    lc_urban_point = lc.first().sample(u_poi, scale).first().get('LC_Type1').getInfo()\n",
    "    #print('Land cover value at urban point is:', lc_urban_point)\n",
    "\n",
    "    aspect = ee.Terrain.aspect(elv)\n",
    "    aspect_urban_point = aspect.sample(u_poi, scale).first().get('aspect').getInfo()\n",
    "    #print(aspect_urban_point)\n",
    "\n",
    "    slope = ee.Terrain.slope(elv)\n",
    "    slope_urban_point = slope.sample(u_poi, scale).first().get('slope').getInfo()\n",
    "    #print(slope_urban_point)\n",
    "\n",
    "    img = ee.Image(l8.filterBounds(u_poi).filterDate('2021-01-01', '2021-01-31').sort('CLOUD_COVER').first())\n",
    "\n",
    "    def meanNDVICollection(img):\n",
    "        nir = img.select('B5');\n",
    "        red = img.select('B4');\n",
    "        ndviImage = nir.subtract(red).divide(nir.add(red)).rename('NDVI');\n",
    "\n",
    "    # Compute the mean of NDVI over the 'region'\n",
    "        ndviValue = ndviImage.reduceRegion(**{\n",
    "        'geometry': img.geometry(),\n",
    "        'reducer': ee.Reducer.mean(),\n",
    "        'scale': 30,\n",
    "        'maxPixels': 1e9\n",
    "    }).get('NDVI');  # result of reduceRegion is always a dictionary, so get the element we want\n",
    "\n",
    "        newFeature = ee.Feature(None, {\n",
    "        # Adding computed NDVI value\n",
    "        'NDVI': ndviValue\n",
    "    }).copyProperties(img, [\n",
    "        # Picking properties from original image\n",
    "        'system:time_start',\n",
    "        'SUN_ELEVATION'\n",
    "    ])\n",
    "\n",
    "        return newFeature\n",
    "\n",
    "    ndvi = meanNDVICollection(img)\n",
    "\n",
    "    ndvi = ndvi.get('NDVI').getInfo()\n",
    "    #print(ndvi)\n",
    "\n",
    "    fa = fd.select('upa')\n",
    "    fa_urban_point = fa.sample(u_poi, scale).getInfo()\n",
    "    fac = fa_urban_point['features'][0]['properties']['upa']\n",
    "    #print(fac)\n",
    "\n",
    "    twi = np.log(fac*1000/np.tan(slope_urban_point))\n",
    "    #print(twi)\n",
    "\n",
    "    spi = fac*np.tan(slope_urban_point)\n",
    "    #print(spi)\n",
    "\n",
    "    rainfall = 28\n",
    "\n",
    "    fs= [[elv_urban_point,slope_urban_point,aspect_urban_point,twi,spi,ndvi,rainfall,lc_urban_point]]\n",
    "\n",
    "    pd = model.predict_proba(fs)*100\n",
    "    value = {\n",
    "        \"Landslide\" : round(pd[0][0],2),\n",
    "        \"No_Landslide\": round(pd[0][1],2)\n",
    "    }\n",
    "    return value\n",
    "\n"
   ]
  },
  {
   "cell_type": "code",
   "execution_count": 23,
   "id": "cc3aad8f",
   "metadata": {},
   "outputs": [],
   "source": [
    "with open(\"coordinates_3\") as f:\n",
    "    data=f.read()\n",
    "data = data.split(\"\\n\")"
   ]
  },
  {
   "cell_type": "code",
   "execution_count": 38,
   "id": "8bd9392b",
   "metadata": {},
   "outputs": [],
   "source": [
    "with open('ls_coord', 'a') as f:\n",
    "    for i,d in enumerate(data[0:30:10]):\n",
    "        ls = get_landslider(float(d.split(\",\")[0]), float(d.split(\",\")[1]))[\"Landslide\"]\n",
    "        print(i, end=\" \")\n",
    "        \n",
    "        if ls>=50:\n",
    "            f.write(d)\n",
    "            f.write(\"\\n\")"
   ]
  },
  {
   "cell_type": "code",
   "execution_count": 36,
   "id": "62bf3029",
   "metadata": {},
   "outputs": [
    {
     "name": "stdout",
     "output_type": "stream",
     "text": [
      "79.77\n",
      "79.77\n",
      "79.77\n"
     ]
    }
   ],
   "source": [
    "for d in data[0:30:10]:\n",
    "    print(get_landslider(float(d.split(\",\")[0]), float(d.split(\",\")[1]))[\"Landslide\"])"
   ]
  },
  {
   "cell_type": "code",
   "execution_count": 31,
   "id": "61e30116",
   "metadata": {},
   "outputs": [],
   "source": [
    "a = [1,2,3,4,5,6]\n"
   ]
  },
  {
   "cell_type": "code",
   "execution_count": 33,
   "id": "9f77a0a1",
   "metadata": {},
   "outputs": [
    {
     "data": {
      "text/plain": [
       "[1, 3, 5]"
      ]
     },
     "execution_count": 33,
     "metadata": {},
     "output_type": "execute_result"
    }
   ],
   "source": [
    "a[0:5:2]"
   ]
  },
  {
   "cell_type": "code",
   "execution_count": null,
   "id": "db1a0bf6",
   "metadata": {},
   "outputs": [],
   "source": []
  }
 ],
 "metadata": {
  "kernelspec": {
   "display_name": "Python 3",
   "language": "python",
   "name": "python3"
  },
  "language_info": {
   "codemirror_mode": {
    "name": "ipython",
    "version": 3
   },
   "file_extension": ".py",
   "mimetype": "text/x-python",
   "name": "python",
   "nbconvert_exporter": "python",
   "pygments_lexer": "ipython3",
   "version": "3.7.3"
  }
 },
 "nbformat": 4,
 "nbformat_minor": 5
}
