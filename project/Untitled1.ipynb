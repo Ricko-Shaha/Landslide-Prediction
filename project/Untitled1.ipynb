{
 "cells": [
  {
   "cell_type": "code",
   "execution_count": 1,
   "id": "f1808cd2",
   "metadata": {},
   "outputs": [],
   "source": [
    "with open(\"coordinates\") as f:\n",
    "    data=f.read()\n",
    "data = data.split(\" \")"
   ]
  },
  {
   "cell_type": "code",
   "execution_count": 2,
   "id": "aca56bd2",
   "metadata": {},
   "outputs": [],
   "source": [
    "with open('rancoord', 'a') as f:\n",
    "    for d in data:\n",
    "        f.write(\"{\"+\" lat: \"+str(float(d.split(\",\")[1]))+\",\"+\" lng: \"+str(float(d.split(\",\")[0]))+\" \"+\"},\")\n",
    "        f.write(\"\\n\")"
   ]
  },
  {
   "cell_type": "code",
   "execution_count": 2,
   "id": "62ac5fdb",
   "metadata": {},
   "outputs": [],
   "source": [
    "import numpy as np\n",
    "with open(\"coordinates_3\") as f:\n",
    "    data=f.read()\n",
    "data = data.split(\"\\n\")"
   ]
  },
  {
   "cell_type": "code",
   "execution_count": 28,
   "id": "7c2647e3",
   "metadata": {},
   "outputs": [
    {
     "ename": "NameError",
     "evalue": "name 'get_landslider' is not defined",
     "output_type": "error",
     "traceback": [
      "\u001b[1;31m---------------------------------------------------------------------------\u001b[0m",
      "\u001b[1;31mNameError\u001b[0m                                 Traceback (most recent call last)",
      "\u001b[1;32m<ipython-input-28-34e127fe24e7>\u001b[0m in \u001b[0;36m<module>\u001b[1;34m\u001b[0m\n\u001b[0;32m     10\u001b[0m                 \u001b[0mlon\u001b[0m \u001b[1;33m=\u001b[0m \u001b[0mnp\u001b[0m\u001b[1;33m.\u001b[0m\u001b[0mlinspace\u001b[0m\u001b[1;33m(\u001b[0m\u001b[0mlon1\u001b[0m\u001b[1;33m,\u001b[0m\u001b[0mlon2\u001b[0m\u001b[1;33m,\u001b[0m\u001b[1;36m10\u001b[0m\u001b[1;33m)\u001b[0m\u001b[1;33m\u001b[0m\u001b[1;33m\u001b[0m\u001b[0m\n\u001b[0;32m     11\u001b[0m                 \u001b[1;32mfor\u001b[0m \u001b[0mi\u001b[0m \u001b[1;32min\u001b[0m \u001b[0mrange\u001b[0m\u001b[1;33m(\u001b[0m\u001b[0mlen\u001b[0m\u001b[1;33m(\u001b[0m\u001b[0mlon\u001b[0m\u001b[1;33m)\u001b[0m\u001b[1;33m)\u001b[0m\u001b[1;33m:\u001b[0m\u001b[1;33m\u001b[0m\u001b[1;33m\u001b[0m\u001b[0m\n\u001b[1;32m---> 12\u001b[1;33m                     \u001b[0mls\u001b[0m \u001b[1;33m=\u001b[0m \u001b[0mget_landslider\u001b[0m\u001b[1;33m(\u001b[0m\u001b[0mlat1\u001b[0m\u001b[1;33m,\u001b[0m \u001b[0mlon\u001b[0m\u001b[1;33m[\u001b[0m\u001b[0mi\u001b[0m\u001b[1;33m]\u001b[0m\u001b[1;33m)\u001b[0m\u001b[1;33m[\u001b[0m\u001b[1;34m\"Landslide\"\u001b[0m\u001b[1;33m]\u001b[0m\u001b[1;33m\u001b[0m\u001b[1;33m\u001b[0m\u001b[0m\n\u001b[0m\u001b[0;32m     13\u001b[0m                     \u001b[1;32mif\u001b[0m \u001b[0mls\u001b[0m\u001b[1;33m>=\u001b[0m\u001b[1;36m70\u001b[0m\u001b[1;33m:\u001b[0m\u001b[1;33m\u001b[0m\u001b[1;33m\u001b[0m\u001b[0m\n\u001b[0;32m     14\u001b[0m                         \u001b[0mf\u001b[0m\u001b[1;33m.\u001b[0m\u001b[0mwrite\u001b[0m\u001b[1;33m(\u001b[0m\u001b[1;34m\"[\"\u001b[0m\u001b[1;33m+\u001b[0m\u001b[0mstr\u001b[0m\u001b[1;33m(\u001b[0m\u001b[0mfloat\u001b[0m\u001b[1;33m(\u001b[0m\u001b[0mlat1\u001b[0m\u001b[1;33m)\u001b[0m\u001b[1;33m)\u001b[0m\u001b[1;33m+\u001b[0m\u001b[1;34m\",\"\u001b[0m\u001b[1;33m+\u001b[0m\u001b[0mstr\u001b[0m\u001b[1;33m(\u001b[0m\u001b[0mfloat\u001b[0m\u001b[1;33m(\u001b[0m\u001b[0mlon\u001b[0m\u001b[1;33m[\u001b[0m\u001b[0mi\u001b[0m\u001b[1;33m]\u001b[0m\u001b[1;33m)\u001b[0m\u001b[1;33m)\u001b[0m\u001b[1;33m+\u001b[0m\u001b[1;34m\"],\"\u001b[0m\u001b[1;33m)\u001b[0m\u001b[1;33m\u001b[0m\u001b[1;33m\u001b[0m\u001b[0m\n",
      "\u001b[1;31mNameError\u001b[0m: name 'get_landslider' is not defined"
     ]
    }
   ],
   "source": [
    "with open('coords', 'a') as f:\n",
    "    for x in data:\n",
    "        lon1 = float(x.split(\",\")[0])\n",
    "        lat1 = float(x.split(\",\")[1])\n",
    "        #f.write(\"[\"+str(float(x.split(\",\")[1]))+\",\"+str(float(x.split(\",\")[0]))+\"],\")\n",
    "        for y in data:\n",
    "            lon2 = float(y.split(\",\")[0])\n",
    "            lat2 = float(y.split(\",\")[1])\n",
    "            if lat1 == lat2 and data.index(x)!=data.index(y):\n",
    "                lon = np.linspace(lon1,lon2,10)\n",
    "                for i in range(len(lon)):\n",
    "                    ls = get_landslider(lat1, lon[i])[\"Landslide\"]\n",
    "                    if ls>=70:\n",
    "                        f.write(\"[\"+str(float(lat1))+\",\"+str(float(lon[i]))+\"],\")\n",
    "                        f.write(\"\\n\")"
   ]
  },
  {
   "cell_type": "code",
   "execution_count": 3,
   "id": "266dc70e",
   "metadata": {},
   "outputs": [
    {
     "name": "stdout",
     "output_type": "stream",
     "text": [
      "[2.   1.75 1.5  1.25 1.  ]\n"
     ]
    }
   ],
   "source": [
    "print(np.linspace(2,1,5))"
   ]
  }
 ],
 "metadata": {
  "kernelspec": {
   "display_name": "Python 3",
   "language": "python",
   "name": "python3"
  },
  "language_info": {
   "codemirror_mode": {
    "name": "ipython",
    "version": 3
   },
   "file_extension": ".py",
   "mimetype": "text/x-python",
   "name": "python",
   "nbconvert_exporter": "python",
   "pygments_lexer": "ipython3",
   "version": "3.7.3"
  }
 },
 "nbformat": 4,
 "nbformat_minor": 5
}
